{
 "cells": [
  {
   "metadata": {},
   "cell_type": "markdown",
   "source": [
    "---\n",
    "\n",
    "## 1. High-Level Overview of the Transformer\n",
    "\n",
    "\n"
   ],
   "id": "9efa13b184954720"
  },
  {
   "metadata": {},
   "cell_type": "markdown",
   "source": [
    "---\n",
    "\n",
    "## 2. Components\n",
    "\n",
    "\n",
    "### 2.1 Multi-Head Self-Attention\n",
    "\n",
    "The attention mechanism can be summarized by:\n",
    "\n",
    "$\n",
    "\\text{Attention}(Q, K, V) = \\text{softmax}\\left(\\frac{QK^T}{\\sqrt{d_k}}\\right) V\n",
    "$\n",
    "\n",
    "Where \\( Q \\), \\( K \\), \\( V \\) represent queries, keys, and values, each shaped (for each head) as:\n",
    "$ Q, K, V \\in \\mathbb{R}^{(\\text{seq\\_len}) \\times (d_k)} $\n",
    "\n",
    "and $( d_k = \\frac{d_\\text{model}}{n_\\text{heads}} )$.\n",
    "\n",
    "- **Multi-head** means we split the embedding dimension into $( n_\\text{heads} )$ parts, compute the above attention in parallel, then concatenate the outputs.\n",
    "\n",
    "#### Why Multi-Head?\n",
    "Instead of relying on a single attention distribution, multiple heads let the model attend to different positions (and different representation subspaces) at each layer.\n",
    "\n",
    "### 2.2 Position-wise Feed-Forward Networks (FFN)\n",
    "\n",
    "After the self-attention sub-layer, each token is passed through a two-layer MLP:\n",
    "$$\n",
    "\\text{FFN}(\\mathbf{x}) = \\max(0,\\, \\mathbf{x} W_1 + b_1)\\, W_2 + b_2\n",
    "$$\n",
    "where:\n",
    "- $( W_1 \\in \\mathbb{R}^{d_\\text{model} \\times d_\\text{ff}} ), ( b_1 \\in \\mathbb{R}^{d_\\text{ff}} )$\n",
    "- $( W_2 \\in \\mathbb{R}^{d_\\text{ff} \\times d_\\text{model}} ), ( b_2 \\in \\mathbb{R}^{d_\\text{model}} \\$\n",
    "\n",
    "\n",
    "### 2.3 Positional Encoding\n",
    "\n",
    "Since the Transformer is permutation-invariant (due to attention alone), we need to inject sequence-order information into the embeddings.\n",
    "\n",
    "- **Sinusoidal positional encodings**:\n",
    "  $$\n",
    "  PE_{(pos, 2i)} = \\sin\\Bigl(\\frac{pos}{10000^{\\frac{2i}{d_\\text{model}}}}\\Bigr),\n",
    "  \\quad\n",
    "  PE_{(pos, 2i+1)} = \\cos\\Bigl(\\frac{pos}{10000^{\\frac{2i}{d_\\text{model}}}}\\Bigr)\n",
    "  $$\n",
    "- **Learned positional embeddings**: A trainable embedding table for positions.\n",
    "- **Relative positional encoding**: Focuses on the distance between positions.\n",
    "- **Rotary embeddings** (RoPE): Introduced in [RoFormer](https://arxiv.org/abs/2104.09864), helpful for extending context length.\n",
    "- **Hybrid**: Combining sinusoidal or rotary with learned embeddings.\n",
    "\n",
    "---\n",
    "\n",
    "### 2.4 Residual Connections & Layer Normalization\n",
    "\n",
    "Each sub-layer (Self-Attention or FFN) is wrapped with:\n",
    "```\n",
    "x -> SubLayer(x) -> x + SubLayer(x) -> LayerNorm\n",
    "```\n",
    "This helps stabilize training and reduce gradient vanishing/exploding in deep networks.\n",
    "\n",
    "\n",
    "## 5. Using PyTorch’s `nn.Transformer` Module\n",
    "\n",
    "---"
   ],
   "id": "7cc21be632260012"
  },
  {
   "metadata": {
    "ExecuteTime": {
     "end_time": "2025-01-07T15:37:38.049900Z",
     "start_time": "2025-01-07T15:37:37.620285Z"
    }
   },
   "cell_type": "code",
   "source": [
    "import torch.nn.functional as F\n",
    "\n",
    "transformer_model = nn.Transformer(\n",
    "    d_model=512,\n",
    "    nhead=8,\n",
    "    num_encoder_layers=6,\n",
    "    num_decoder_layers=6,\n",
    "    dim_feedforward=2048\n",
    ")\n",
    "\n",
    "# Example shapes:\n",
    "src = torch.randn(10, 32, 512)  # (src_seq_len, batch_size, d_model)\n",
    "tgt = torch.randn(20, 32, 512)  # (tgt_seq_len, batch_size, d_model)\n",
    "\n",
    "out = transformer_model(src, tgt)  # => (tgt_seq_len, batch_size, d_model)"
   ],
   "id": "80f83f75ddf14830",
   "outputs": [
    {
     "name": "stderr",
     "output_type": "stream",
     "text": [
      "/opt/miniconda3/envs/explore/lib/python3.12/site-packages/torch/nn/modules/transformer.py:375: UserWarning: enable_nested_tensor is True, but self.use_nested_tensor is False because encoder_layer.self_attn.batch_first was not True(use batch_first for better inference performance)\n",
      "  warnings.warn(\n"
     ]
    }
   ],
   "execution_count": 6
  },
  {
   "metadata": {},
   "cell_type": "markdown",
   "source": [
    "> **Note on Shapes**: PyTorch’s built-in `nn.Transformer` expects input shape `(sequence_length, batch_size, d_model)`\n",
    "\n",
    "Notes\n",
    "1. **Attention Mechanisms**:\n",
    "   - Understand *scaled dot-product* in detail.\n",
    "   - Distinguish self-attention from cross-attention (encoder-decoder attention).\n",
    "\n",
    "2. **Positional Encoding Innovations**:\n",
    "   - Sinusoidal vs. learned vs. relative vs. rotary.\n",
    "   - The trade-offs in practice (e.g., learned embeddings can be more flexible, but sinusoidal is simpler, rotary better for extrapolation, etc.).\n",
    "\n",
    "3. **Layer Normalization and Residuals**:\n",
    "   - Vital for stable deep learning, especially in large models.\n",
    "\n",
    "4. **Model Scaling**:\n",
    "   - Modern Transformers can have dozens of layers and thousands of hidden dimensions.\n",
    "   - Expert knowledge requires understanding of memory and computational constraints, as well as *mixed precision* training, distributed training, etc.\n",
    "\n",
    "5. **Masking**:\n",
    "   - **Padding Mask**: Avoid attending to `<pad>` tokens.\n",
    "   - **Causal Mask**: Prevent the decoder from attending to future tokens.\n",
    "   - **Cross-Attention** Mask: If needed for ignoring padded portions of the encoder output.\n",
    "\n",
    "6. **Implementation Details**:\n",
    "   - Efficiency: GPU memory usage, chunked attention, flash attention, etc.\n",
    "   - GPU/TPU/HPU performance tuning: half-precision, gradient checkpointing for large models.\n",
    "   - Large-scale training frameworks (e.g., [DeepSpeed](https://github.com/microsoft/DeepSpeed), [Megatron-LM](https://github.com/NVIDIA/Megatron-LM)).\n",
    "\n",
    "Additional Notes\n",
    "1. **Original Paper**: [*Attention Is All You Need*](https://arxiv.org/abs/1706.03762) by Vaswani et al.\n",
    "2. **Hugging Face Transformers**: For pre-trained models (BERT, GPT, T5, etc.), check out [Hugging Face’s Transformers library](https://github.com/huggingface/transformers).\n",
    "3. **Performance Optimizations**:\n",
    "   - *Flash Attention*: [Paper](https://arxiv.org/abs/2205.14135), [Open-source implementation](https://github.com/HazyResearch/flash-attention).\n",
    "   - *Zero Redundancy Optimizer (ZeRO)* in [DeepSpeed](https://www.deepspeed.ai/).\n",
    "\n",
    "4. **Advanced Topics**:\n",
    "   - Techniques like *Adapter Layers* for efficient fine-tuning.\n",
    "   - *Prompt tuning* or *prefix tuning*.\n",
    "   - *Sparse Attention* for long sequences, e.g., Longformer, Big Bird.\n",
    "   - *Retrieval-Augmented Transformers* for knowledge grounding.\n",
    "\n",
    "---\n"
   ],
   "id": "86d30320d3ca4eb3"
  }
 ],
 "metadata": {
  "kernelspec": {
   "display_name": "Python 3",
   "language": "python",
   "name": "python3"
  },
  "language_info": {
   "codemirror_mode": {
    "name": "ipython",
    "version": 2
   },
   "file_extension": ".py",
   "mimetype": "text/x-python",
   "name": "python",
   "nbconvert_exporter": "python",
   "pygments_lexer": "ipython2",
   "version": "2.7.6"
  }
 },
 "nbformat": 4,
 "nbformat_minor": 5
}
